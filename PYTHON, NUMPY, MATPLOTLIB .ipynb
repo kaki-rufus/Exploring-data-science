{
 "cells": [
  {
   "cell_type": "markdown",
   "id": "f143d444",
   "metadata": {},
   "source": [
    "### 1. DATA TYPES\n",
    "- Numeric : integers and floats\n",
    "- string\n",
    "- booleans"
   ]
  },
  {
   "cell_type": "code",
   "execution_count": 1,
   "id": "98662619",
   "metadata": {},
   "outputs": [
    {
     "name": "stdout",
     "output_type": "stream",
     "text": [
      "Hey\n"
     ]
    }
   ],
   "source": [
    "print(\"Hey\")"
   ]
  },
  {
   "cell_type": "code",
   "execution_count": 2,
   "id": "4e135e18",
   "metadata": {},
   "outputs": [
    {
     "name": "stdout",
     "output_type": "stream",
     "text": [
      "<class 'int'>\n"
     ]
    }
   ],
   "source": [
    "# integer\n",
    "# print(100)\n",
    "\n",
    "# float\n",
    "# print(7.4)\n",
    "\n",
    "# string\n",
    "# print(\"Hello\")\n",
    "\n",
    "# booleans\n",
    "\n",
    "\n",
    "# check type\n",
    "print(type(1))"
   ]
  },
  {
   "cell_type": "markdown",
   "id": "e6c0b06a",
   "metadata": {},
   "source": [
    "### 2. VARIABLES\n",
    "- Know the rules of naming variables"
   ]
  },
  {
   "cell_type": "code",
   "execution_count": 3,
   "id": "04891c41",
   "metadata": {},
   "outputs": [
    {
     "name": "stdout",
     "output_type": "stream",
     "text": [
      "2\n"
     ]
    }
   ],
   "source": [
    "a = 2\n",
    "print(a)"
   ]
  },
  {
   "cell_type": "code",
   "execution_count": 4,
   "id": "d52f0f9c",
   "metadata": {},
   "outputs": [
    {
     "name": "stdout",
     "output_type": "stream",
     "text": [
      "CiT club webinar\n"
     ]
    }
   ],
   "source": [
    "message = \"CiT club webinar\"\n",
    "print(message)"
   ]
  },
  {
   "cell_type": "markdown",
   "id": "defb023d",
   "metadata": {},
   "source": [
    "###### 2.1 String methods "
   ]
  },
  {
   "cell_type": "code",
   "execution_count": 9,
   "id": "c677aa04",
   "metadata": {},
   "outputs": [
    {
     "name": "stdout",
     "output_type": "stream",
     "text": [
      "4\n",
      "2\n",
      "3.8\n"
     ]
    }
   ],
   "source": [
    "message = \"CiT club wabinar\"\n",
    "# print(len(message))\n",
    "# print(message[5])\n",
    "# print(message.upper())\n",
    "# print(message.count(\"a\"))\n",
    "print(message.find(\"club\"))\n",
    "print(message.index(\"T\"))\n",
    "# print(message.find(\"students\"))\n",
    "# print(message.replace(\"club\", \"Engineering\"))\n",
    "# print(abs())\n",
    "print(round(3.75, 1))"
   ]
  },
  {
   "cell_type": "markdown",
   "id": "f88da0df",
   "metadata": {},
   "source": [
    "###### 2.2 String concatenation "
   ]
  },
  {
   "cell_type": "code",
   "execution_count": 10,
   "id": "8cc63e55",
   "metadata": {},
   "outputs": [
    {
     "name": "stdout",
     "output_type": "stream",
     "text": [
      "Hello cit\n"
     ]
    }
   ],
   "source": [
    "greeting = 'Hello'\n",
    "name = 'cit'\n",
    "\n",
    "message = greeting+ \" \"  +name\n",
    "\n",
    "print(message)"
   ]
  },
  {
   "cell_type": "markdown",
   "id": "10dc6a97",
   "metadata": {},
   "source": [
    "###### 2.3 Formatted strings "
   ]
  },
  {
   "cell_type": "code",
   "execution_count": 11,
   "id": "6252ab9d",
   "metadata": {},
   "outputs": [
    {
     "name": "stdout",
     "output_type": "stream",
     "text": [
      "Hello cit\n"
     ]
    }
   ],
   "source": [
    "greeting = 'Hello'\n",
    "name = 'cit'\n",
    "\n",
    "print(f'{greeting} {name}')"
   ]
  },
  {
   "cell_type": "code",
   "execution_count": 5,
   "id": "d265eb4c",
   "metadata": {},
   "outputs": [],
   "source": [
    "# print(f'{greeting} {name}')"
   ]
  },
  {
   "cell_type": "markdown",
   "id": "acbe300b",
   "metadata": {},
   "source": [
    "### OPERATORS\n",
    "1. ARITHMETIC OPERATORS\n",
    "- Addition (+)\n",
    "- Subtraction (-)\n",
    "- Multiplication (*)\n",
    "- Division (/)\n",
    "- Floor Division (//)\n",
    "- Exponent (**)\n",
    "- Modulus (%)\n",
    "\n",
    "2. COMPARISION OPERATORS\n",
    "- Equal (==)\n",
    "- Not Equal (!=)\n",
    "- Greater Than (>)\n",
    "- Less than (<)\n",
    "- Greater or Equal (>=)\n",
    "- Less or equal (<=)\n",
    "- Object identity (is)\n",
    "\n",
    "3. MEMBERSHIP OPERATOR \n",
    "4. LOGICAL OPERATORS\n",
    "- and\n",
    "- or\n",
    "- not"
   ]
  },
  {
   "cell_type": "code",
   "execution_count": 97,
   "id": "ff0b4bac",
   "metadata": {},
   "outputs": [
    {
     "name": "stdout",
     "output_type": "stream",
     "text": [
      "2\n"
     ]
    }
   ],
   "source": [
    "# arithmetic operators\n",
    "# a = 2\n",
    "# b = 3\n",
    "\n",
    "# c = a % b\n",
    "# print(c)"
   ]
  },
  {
   "cell_type": "code",
   "execution_count": 99,
   "id": "84a431d1",
   "metadata": {},
   "outputs": [
    {
     "name": "stdout",
     "output_type": "stream",
     "text": [
      "True\n"
     ]
    }
   ],
   "source": [
    "# comparison operators\n",
    "\n",
    "a = 3\n",
    "b = 4\n",
    "\n",
    "print(a != b)"
   ]
  },
  {
   "cell_type": "code",
   "execution_count": 8,
   "id": "e732d460",
   "metadata": {},
   "outputs": [],
   "source": [
    "# type casting"
   ]
  },
  {
   "cell_type": "markdown",
   "id": "c6888b47",
   "metadata": {},
   "source": [
    "### 3. Conditionals and Booleans - If, Else and Elif statements"
   ]
  },
  {
   "cell_type": "code",
   "execution_count": 102,
   "id": "9103690e",
   "metadata": {},
   "outputs": [
    {
     "name": "stdout",
     "output_type": "stream",
     "text": [
      "No match\n"
     ]
    }
   ],
   "source": [
    "language = 'C'\n",
    "\n",
    "if language =='Python':\n",
    "    print('Language is Python')\n",
    "elif language == 'Java':\n",
    "    print('Language is Java')\n",
    "else:\n",
    "    print('No match')"
   ]
  },
  {
   "cell_type": "code",
   "execution_count": 105,
   "id": "214c8011",
   "metadata": {},
   "outputs": [
    {
     "name": "stdout",
     "output_type": "stream",
     "text": [
      "Admin page\n"
     ]
    }
   ],
   "source": [
    "# Try different logical operators\n",
    "user = 'Admin'\n",
    "logged_in = False\n",
    "\n",
    "if user == 'Admin' or logged_in:\n",
    "    print('Admin page')\n",
    "else:\n",
    "    print('Bad credentials')"
   ]
  },
  {
   "cell_type": "code",
   "execution_count": 13,
   "id": "ee48e8eb",
   "metadata": {},
   "outputs": [
    {
     "name": "stdout",
     "output_type": "stream",
     "text": [
      "False\n",
      "False\n"
     ]
    }
   ],
   "source": [
    "# Try membership and object identity\n",
    "a = [1, 2, 3]\n",
    "b = [1, 2, 3]\n",
    "\n",
    "print(a!=b)\n",
    "\n",
    "# print(1 not in a)\n",
    "\n",
    "# print(id(a))\n",
    "# print(id(b))\n",
    "\n",
    "print(a is b)"
   ]
  },
  {
   "cell_type": "markdown",
   "id": "8fd3cbd1",
   "metadata": {},
   "source": [
    "##### What Python evaluates to false:\n",
    "- False\n",
    "- None\n",
    "- Zero of any numeric type\n",
    "- Any empty sequence i.e ' ', (), [].\n",
    "- Any empty mapping. For example {}."
   ]
  },
  {
   "cell_type": "code",
   "execution_count": 14,
   "id": "b2ad86f5",
   "metadata": {},
   "outputs": [
    {
     "name": "stdout",
     "output_type": "stream",
     "text": [
      "Evaluate to False\n"
     ]
    }
   ],
   "source": [
    "condition = ''\n",
    "\n",
    "if condition:\n",
    "    \n",
    "    print('Evaluate to True')\n",
    "else:\n",
    "    \n",
    "    print('Evaluate to False') "
   ]
  },
  {
   "cell_type": "markdown",
   "id": "017136b4",
   "metadata": {},
   "source": [
    "### 4. LISTS, TUPLES, SETS \n",
    "- Lists and tuples works with sequential data\n",
    "- Lists are mutable\n",
    "- Tuples are immutable: cant change their values\n",
    "- sets: unordered collections of values with no duplicates"
   ]
  },
  {
   "cell_type": "markdown",
   "id": "7af2a422",
   "metadata": {},
   "source": [
    "###### 4.1 List manipulation"
   ]
  },
  {
   "cell_type": "markdown",
   "id": "bd3d1979",
   "metadata": {},
   "source": [
    "### List"
   ]
  },
  {
   "cell_type": "code",
   "execution_count": 135,
   "id": "19bf6dc8",
   "metadata": {},
   "outputs": [
    {
     "name": "stdout",
     "output_type": "stream",
     "text": [
      "['Java', 1, 3, 6, 7, 9]\n"
     ]
    }
   ],
   "source": [
    "courses = [\"Python\", \"Java\", \"Kotlin\", \"C\", \"C++\"]\n",
    "courses_2 = [1, 2, 6, 3, 4]\n",
    "\n",
    "\n",
    "# list indexing\n",
    "# courses = ['Python', 'Java', 'Kotlin', 'c', 'C++']\n",
    "# print(courses[2])\n",
    "\n",
    "\n",
    "# append\n",
    "# courses = ['Python', 'Java', 'Kotlin', 'c', 'C++']\n",
    "# courses_2 = [1, 2, 6, 3, 4]\n",
    "\n",
    "# # courses.append(courses_2)\n",
    "# courses.extend(courses_2)\n",
    "\n",
    "# print(courses)\n",
    "# insert\n",
    "# courses = ['Python', 'Java', 'Kotlin', 'c', 'C++']\n",
    "# courses.insert(3, \"JavaScript\")\n",
    "# print(courses)\n",
    "\n",
    "# extend \n",
    "# courses.extend(courses_2)\n",
    "\n",
    "\n",
    "# remove \n",
    "# courses = ['Python', 'Java', 'Kotlin', 'C', 'C++']\n",
    "# courses.remove(\"C\")\n",
    "# print(courses)\n",
    "\n",
    "# courses = ['Python', 'Java', 'Kotlin', 'C', 'C++']\n",
    "\n",
    "# courses.pop()\n",
    "# print(courses)\n",
    "\n",
    "\n",
    "# reverse\n",
    "\n",
    "# numbers = [1, 3, 6, 7, 9]\n",
    "# numbers.reverse()\n",
    "# print(numbers)\n",
    "\n",
    "# sort (reverse)/sorted()\n",
    "# numbers = [1, 0, 9, 7, 9]\n",
    "# numbers.sort()\n",
    "# print(numbers)\n",
    "\n",
    "# min() / max() / sum()\n",
    "numbers = ['python',1, 3, 6, 7, 9]\n",
    "\n",
    "# list is mutable - change\n",
    "numbers[0] = 'Java'\n",
    "\n",
    "print(numbers)\n",
    "# index()\n",
    "\n",
    "\n",
    "# typecasting (list to string, tuple, set)\n",
    "# courses_str = \" \".join(courses)\n",
    "# courses_str\n",
    "\n",
    "# make a list from strings\n",
    "# new_str = courses_str.split(' ')\n",
    "# new_str"
   ]
  },
  {
   "cell_type": "code",
   "execution_count": 14,
   "id": "8015d5d3",
   "metadata": {},
   "outputs": [],
   "source": [
    "# run a for loop\n",
    "# for course in courses:\n",
    "#     print(course)"
   ]
  },
  {
   "cell_type": "code",
   "execution_count": 15,
   "id": "2ce25237",
   "metadata": {},
   "outputs": [],
   "source": [
    "# index of what value you loop\n",
    "# for index, course in enumerate(courses, start=1):\n",
    "#     print(index, course)"
   ]
  },
  {
   "cell_type": "code",
   "execution_count": 16,
   "id": "53ec9dc8",
   "metadata": {},
   "outputs": [],
   "source": [
    "# date = ['12', '6', '21']\n",
    "# date_str = ' : '.join(date)\n",
    "# date_str"
   ]
  },
  {
   "cell_type": "markdown",
   "id": "bb1049c0",
   "metadata": {},
   "source": [
    "###### 4.2 Tuple "
   ]
  },
  {
   "cell_type": "code",
   "execution_count": 138,
   "id": "517dd31f",
   "metadata": {},
   "outputs": [
    {
     "name": "stdout",
     "output_type": "stream",
     "text": [
      "('kaki', 'rufus', 'njenga', 'jane', 'kaki')\n"
     ]
    }
   ],
   "source": [
    "# tuple\n",
    "students = (\"kaki\", \"rufus\", \"njenga\", \"jane\", \"kaki\")\n",
    "# students[2] = 'CIT'\n",
    "print(students)\n",
    "# type(students)"
   ]
  },
  {
   "cell_type": "markdown",
   "id": "1dd6d8ea",
   "metadata": {},
   "source": [
    "###### 4.2.1 Tuple unpacking "
   ]
  },
  {
   "cell_type": "code",
   "execution_count": 141,
   "id": "b206aaf6",
   "metadata": {},
   "outputs": [
    {
     "name": "stdout",
     "output_type": "stream",
     "text": [
      "1\n",
      "5\n",
      "6\n",
      "8\n"
     ]
    }
   ],
   "source": [
    "tuple = (1, 5, 6, 8)\n",
    "\n",
    "a, b, c ,d = tuple\n",
    "\n",
    "print(a)\n",
    "print(b)\n",
    "print(c)\n",
    "print(d)"
   ]
  },
  {
   "cell_type": "markdown",
   "id": "562654cb",
   "metadata": {},
   "source": [
    "###### 4.3 Set "
   ]
  },
  {
   "cell_type": "code",
   "execution_count": 142,
   "id": "4c4f1e28",
   "metadata": {},
   "outputs": [
    {
     "name": "stdout",
     "output_type": "stream",
     "text": [
      "{'geog', 'History', 'math', 'kis', 'eng'}\n",
      "True\n"
     ]
    }
   ],
   "source": [
    "# set \n",
    "course = {'History', 'geog', 'math', 'eng', 'kis', 'History'}\n",
    "print(course)\n",
    "print('geog' in course)"
   ]
  },
  {
   "cell_type": "markdown",
   "id": "1737e92c",
   "metadata": {},
   "source": [
    "###### 4.3.1 Set manipulation"
   ]
  },
  {
   "cell_type": "code",
   "execution_count": 17,
   "id": "225ddee3",
   "metadata": {},
   "outputs": [
    {
     "name": "stdout",
     "output_type": "stream",
     "text": [
      "{'geog', 'eng', 'kis', 'History'}\n",
      "{'math'}\n",
      "{'german', 'kis', 'History', 'math', 'geog', 'eng'}\n"
     ]
    }
   ],
   "source": [
    "course1 = {'History', 'geog', 'math', 'eng', 'kis', 'History'}\n",
    "course2 = {'History', 'geog', 'eng', 'kis', 'german'}\n",
    "\n",
    "print(course1.intersection(course2))\n",
    "print(course1.difference(course2))\n",
    "print(course1.union(course2))\n"
   ]
  },
  {
   "cell_type": "markdown",
   "id": "dccdd366",
   "metadata": {},
   "source": [
    "###### POINTS TO TAKE "
   ]
  },
  {
   "cell_type": "code",
   "execution_count": 21,
   "id": "c6150107",
   "metadata": {},
   "outputs": [],
   "source": [
    "# empty lists\n",
    "empty_list = []\n",
    "empty_list = list()\n",
    "\n",
    "# empty tuple\n",
    "empty_tuple = ()\n",
    "empty_tuple = tuple\n",
    "\n",
    "# empty set\n",
    "# empty_tuple = {} (this isnt right. Depicts a dictionary)\n",
    "empty_set = set()"
   ]
  },
  {
   "cell_type": "markdown",
   "id": "3e60f115",
   "metadata": {},
   "source": [
    "### Dictionary\n",
    "- key value pair data structure\n",
    "- key: unique identifier for a value`"
   ]
  },
  {
   "cell_type": "code",
   "execution_count": 19,
   "id": "acb3fb8e",
   "metadata": {},
   "outputs": [
    {
     "name": "stdout",
     "output_type": "stream",
     "text": [
      "dict_items([('name', 'John'), ('age', 24), ('courses', ['Python', 'Java'])])\n",
      "['Python', 'Java']\n"
     ]
    }
   ],
   "source": [
    "student = {\n",
    "           'name':'John', \n",
    "           'age':24, \n",
    "           'courses':['Python', 'Java']\n",
    "          }\n",
    "\n",
    "# student.update({'name':'Jane', 'age':56, 'phone':'4348374383'})\n",
    "\n",
    "# delete a key and its value\n",
    "# del student['name']\n",
    "\n",
    "# age = student.pop('age')\n",
    "\n",
    "# len(student)\n",
    "\n",
    "\n",
    "# print(student.keys())\n",
    "# print(student.values())\n",
    "print(student.items())\n",
    "\n",
    "student = {\n",
    "           'name':'John', \n",
    "           'age':24, \n",
    "           'courses':['Python', 'Java']\n",
    "          }\n",
    "\n",
    "courses  = student['courses']\n",
    "print(courses)\n",
    "# print(student['name'])\n",
    "# print(student.get('name'))\n",
    "# print(student.get('lalo', 'Key not in the dictionary'))"
   ]
  },
  {
   "cell_type": "code",
   "execution_count": 20,
   "id": "bb2ea2fd",
   "metadata": {},
   "outputs": [
    {
     "name": "stdout",
     "output_type": "stream",
     "text": [
      "dict_items([('name', 'John'), ('age', 24), ('courses', ['Python', 'Java'])])\n"
     ]
    }
   ],
   "source": [
    "# to see key and value pair\n",
    "print(student.items())"
   ]
  },
  {
   "cell_type": "code",
   "execution_count": 24,
   "id": "5f819f2c",
   "metadata": {},
   "outputs": [
    {
     "name": "stdout",
     "output_type": "stream",
     "text": [
      "name\n",
      "age\n",
      "courses\n"
     ]
    }
   ],
   "source": [
    "# loop through the keys\n",
    "for key in student:\n",
    "    print(key)"
   ]
  },
  {
   "cell_type": "code",
   "execution_count": 25,
   "id": "10d85296",
   "metadata": {},
   "outputs": [
    {
     "name": "stdout",
     "output_type": "stream",
     "text": [
      "name : John\n",
      "age : 24\n",
      "courses : ['Python', 'Java']\n"
     ]
    }
   ],
   "source": [
    "# loop through keys and value\n",
    "for key, value in student.items():\n",
    "    print(f'{key} : {value}')"
   ]
  },
  {
   "cell_type": "markdown",
   "id": "c2d0ba24",
   "metadata": {},
   "source": [
    "### Loops and iterations\n",
    "- Break: will completely break out of a loop\n",
    "- Continue: will move on to the next iteration of loop, skip"
   ]
  },
  {
   "cell_type": "code",
   "execution_count": 157,
   "id": "cb1b1d6c",
   "metadata": {},
   "outputs": [
    {
     "name": "stdout",
     "output_type": "stream",
     "text": [
      "0\n",
      "1\n",
      "2\n",
      "3\n",
      "5\n",
      "6\n",
      "7\n"
     ]
    }
   ],
   "source": [
    "# for loop, while loop\n",
    "\n",
    "\n",
    "# for x in range(1,9):\n",
    "#     print(x)\n",
    "\n",
    "# for x in range(8):\n",
    "#     if x == 4:\n",
    "#         continue\n",
    "#     print(x)"
   ]
  },
  {
   "cell_type": "code",
   "execution_count": 158,
   "id": "4a07daa8",
   "metadata": {},
   "outputs": [
    {
     "name": "stdout",
     "output_type": "stream",
     "text": [
      "1\n",
      "3\n",
      "4\n",
      "3\n",
      "5\n"
     ]
    }
   ],
   "source": [
    "# for loop will iterate through a certain number of values\n",
    "nums = [1, 3, 4, 3, 5]\n",
    "\n",
    "for num in nums:\n",
    "    print(num)"
   ]
  },
  {
   "cell_type": "code",
   "execution_count": 28,
   "id": "4a4aee88",
   "metadata": {},
   "outputs": [],
   "source": [
    "# range"
   ]
  },
  {
   "cell_type": "code",
   "execution_count": 160,
   "id": "f3495036",
   "metadata": {},
   "outputs": [
    {
     "name": "stdout",
     "output_type": "stream",
     "text": [
      "0\n",
      "2\n",
      "4\n",
      "6\n",
      "8\n"
     ]
    }
   ],
   "source": [
    "# while loop will keep going until a certain condition is met\n",
    "\n",
    "x = 0\n",
    "\n",
    "# check condition\n",
    "while x<10:\n",
    "    print(x)\n",
    "    x = x+2"
   ]
  },
  {
   "cell_type": "markdown",
   "id": "189927f1",
   "metadata": {},
   "source": [
    "### Functions\n",
    "- args: represent the positional arguments ... receives values as tuple\n",
    "- kwargs: represent keyword arguments ... receives values as dict...  "
   ]
  },
  {
   "cell_type": "code",
   "execution_count": 162,
   "id": "d94c39ff",
   "metadata": {},
   "outputs": [
    {
     "name": "stdout",
     "output_type": "stream",
     "text": [
      "hello\n"
     ]
    }
   ],
   "source": [
    "def cit():\n",
    "    print('hello')\n",
    "    \n",
    "cit()"
   ]
  },
  {
   "cell_type": "code",
   "execution_count": 42,
   "id": "f6930d08",
   "metadata": {},
   "outputs": [],
   "source": [
    "# simple function\n",
    "def Hello(name, age):\n",
    "    print(f'I am {name} aged {age}')\n",
    "    \n",
    "Hello('Kaki', 37)"
   ]
  },
  {
   "cell_type": "code",
   "execution_count": 21,
   "id": "3237118d",
   "metadata": {},
   "outputs": [],
   "source": [
    "# when you not sure of arguments to pass to the function\n",
    "def student(*args, **kwargs):\n",
    "    print(args)\n",
    "    print(kwargs)    "
   ]
  },
  {
   "cell_type": "code",
   "execution_count": 22,
   "id": "09aedda7",
   "metadata": {},
   "outputs": [
    {
     "name": "stdout",
     "output_type": "stream",
     "text": [
      "('Rufus', 20, 'math')\n",
      "{'coding': 'Python', 'cls': 'BCT', 'room': 108}\n"
     ]
    }
   ],
   "source": [
    "student('Rufus', 20, 'math', coding='Python', cls='BCT', room = 108)"
   ]
  },
  {
   "cell_type": "code",
   "execution_count": 23,
   "id": "b678acb8",
   "metadata": {},
   "outputs": [
    {
     "name": "stdout",
     "output_type": "stream",
     "text": [
      "(['Rufus', 20, 'math'], {'coding': 'Python', 'cls': 'BCT', 'room': 108})\n",
      "{}\n"
     ]
    }
   ],
   "source": [
    "course = ['Rufus', 20, 'math']\n",
    "info = {'coding': 'Python', 'cls': 'BCT', 'room': 108}\n",
    "\n",
    "student(course, info)"
   ]
  },
  {
   "cell_type": "code",
   "execution_count": 24,
   "id": "3e043bed",
   "metadata": {},
   "outputs": [
    {
     "name": "stdout",
     "output_type": "stream",
     "text": [
      "('Rufus', 20, 'math')\n",
      "{'coding': 'Python', 'cls': 'BCT', 'room': 108}\n"
     ]
    }
   ],
   "source": [
    "course = ['Rufus', 20, 'math']\n",
    "info = {'coding': 'Python', 'cls': 'BCT', 'room': 108}\n",
    "\n",
    "# unpacking the course and info\n",
    "student(*course, **info)"
   ]
  },
  {
   "cell_type": "code",
   "execution_count": 30,
   "id": "9b1ff8e9",
   "metadata": {},
   "outputs": [
    {
     "name": "stdout",
     "output_type": "stream",
     "text": [
      "kaki\n",
      "rufus\n"
     ]
    }
   ],
   "source": [
    "def unpack(x, y):\n",
    "    print(x)\n",
    "    print(y)\n",
    "    \n",
    "arg = ['kaki', 'rufus']\n",
    "\n",
    "# unpacking list values\n",
    "unpack(*arg)"
   ]
  },
  {
   "cell_type": "code",
   "execution_count": 1,
   "id": "f6bd7db1",
   "metadata": {},
   "outputs": [
    {
     "name": "stdout",
     "output_type": "stream",
     "text": [
      "kaki\n",
      "rufus\n",
      "cccc\n"
     ]
    }
   ],
   "source": [
    "def unpack(a, b, c):\n",
    "    print(a)\n",
    "    print(b)\n",
    "    print(c)\n",
    "    \n",
    "kwargs = {'a':'kaki', 'b':'rufus', 'c':'cccc'}\n",
    "\n",
    "# unpack dict.. to seperate key values\n",
    "\n",
    "unpack(**kwargs)"
   ]
  },
  {
   "cell_type": "code",
   "execution_count": 2,
   "id": "8a2510bb",
   "metadata": {},
   "outputs": [],
   "source": [
    "# persons = {'name':'kaki', 'age':37}\n",
    "\n",
    "# print(f'My name is {persons.name} of age {persons.age}')"
   ]
  },
  {
   "cell_type": "code",
   "execution_count": 38,
   "id": "f76b8f2c",
   "metadata": {},
   "outputs": [],
   "source": [
    "# pi = 3.14159265\n",
    "\n",
    "# sentence = f'Pi is equal to {pi:.3f}'\n",
    "\n",
    "# sentence"
   ]
  },
  {
   "cell_type": "code",
   "execution_count": 39,
   "id": "f54e321c",
   "metadata": {},
   "outputs": [],
   "source": [
    "# from datetime import datetime\n",
    "\n",
    "# birthday =datetime(2000, 4, 21)\n",
    "\n",
    "# sentence = f'Jane was born in the year {birthday:%B, %d, %Y}'\n",
    "\n",
    "# print(sentence)"
   ]
  },
  {
   "cell_type": "markdown",
   "id": "f0a5f2b0",
   "metadata": {},
   "source": [
    "######  GENERATORS "
   ]
  },
  {
   "cell_type": "code",
   "execution_count": 40,
   "id": "3b470b10",
   "metadata": {},
   "outputs": [
    {
     "data": {
      "text/plain": [
       "[1, 4, 9, 16, 25]"
      ]
     },
     "execution_count": 40,
     "metadata": {},
     "output_type": "execute_result"
    }
   ],
   "source": [
    "def square_numbers(nums):\n",
    "    for i in nums:\n",
    "        yield (i*i)\n",
    "        \n",
    "my_nums = square_numbers([1,2,3,4,5])\n",
    "\n",
    "list(my_nums)\n",
    "\n",
    "# for num in my_nums:\n",
    "#     print(num)\n",
    "\n",
    "# print(next(my_nums))\n",
    "# print(next(my_nums))\n",
    "# print(next(my_nums))\n",
    "# print(next(my_nums))\n",
    "# print(next(my_nums))"
   ]
  },
  {
   "cell_type": "code",
   "execution_count": 41,
   "id": "18ebe98d",
   "metadata": {},
   "outputs": [
    {
     "data": {
      "text/plain": [
       "[1, 4, 9, 16, 25]"
      ]
     },
     "execution_count": 41,
     "metadata": {},
     "output_type": "execute_result"
    }
   ],
   "source": [
    "# list comprehension to do that\n",
    "square = [x*x for x in [1, 2, 3, 4, 5]]\n",
    "square          "
   ]
  },
  {
   "cell_type": "code",
   "execution_count": null,
   "id": "83ed363c",
   "metadata": {},
   "outputs": [],
   "source": []
  }
 ],
 "metadata": {
  "kernelspec": {
   "display_name": "Python 3 (ipykernel)",
   "language": "python",
   "name": "python3"
  },
  "language_info": {
   "codemirror_mode": {
    "name": "ipython",
    "version": 3
   },
   "file_extension": ".py",
   "mimetype": "text/x-python",
   "name": "python",
   "nbconvert_exporter": "python",
   "pygments_lexer": "ipython3",
   "version": "3.9.13"
  }
 },
 "nbformat": 4,
 "nbformat_minor": 5
}
